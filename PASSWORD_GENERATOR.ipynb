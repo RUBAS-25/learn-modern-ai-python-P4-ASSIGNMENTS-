{
  "nbformat": 4,
  "nbformat_minor": 0,
  "metadata": {
    "colab": {
      "provenance": [],
      "authorship_tag": "ABX9TyNyX3a30DeXUUcCYaEkHBIf",
      "include_colab_link": true
    },
    "kernelspec": {
      "name": "python3",
      "display_name": "Python 3"
    },
    "language_info": {
      "name": "python"
    }
  },
  "cells": [
    {
      "cell_type": "markdown",
      "metadata": {
        "id": "view-in-github",
        "colab_type": "text"
      },
      "source": [
        "<a href=\"https://colab.research.google.com/github/RUBAS-25/learn-modern-ai-python-P4-ASSIGNMENTS-/blob/main/PASSWORD_GENERATOR.ipynb\" target=\"_parent\"><img src=\"https://colab.research.google.com/assets/colab-badge.svg\" alt=\"Open In Colab\"/></a>"
      ]
    },
    {
      "cell_type": "markdown",
      "source": [
        "# **PASSWORD GENERATOR**\n",
        "**In the Password Generator project, you'll build a simple tool that creates strong, random passwords based on user-defined settings. The user decides:**\n",
        "**How many passwords to generate**\n",
        "**The length of each password**"
      ],
      "metadata": {
        "id": "Gb7K_Pzfhgju"
      }
    },
    {
      "cell_type": "code",
      "execution_count": 1,
      "metadata": {
        "colab": {
          "base_uri": "https://localhost:8080/"
        },
        "id": "OyUkOYQvgbOH",
        "outputId": "29e24010-b006-4a94-abd5-0637ecae9c84"
      },
      "outputs": [
        {
          "output_type": "stream",
          "name": "stdout",
          "text": [
            "Welcome to the Password Generator!\n",
            "How many passwords would you like to generate? 1\n",
            "Enter the length of each password: 12\n",
            "\n",
            "Here are your passwords:\n",
            "^-p@MOe~$61@\n"
          ]
        }
      ],
      "source": [
        "import random\n",
        "import string\n",
        "\n",
        "def generate_password(length):\n",
        "    characters = string.ascii_letters + string.digits + string.punctuation\n",
        "    password = ''.join(random.choice(characters) for _ in range(length))\n",
        "    return password\n",
        "\n",
        "def main():\n",
        "    print(\"Welcome to the Password Generator!\")\n",
        "\n",
        "    try:\n",
        "        num_passwords = int(input(\"How many passwords would you like to generate? \"))\n",
        "        length = int(input(\"Enter the length of each password: \"))\n",
        "    except ValueError:\n",
        "        print(\"Invalid input. Please enter numbers only.\")\n",
        "        return\n",
        "\n",
        "    print(\"\\nHere are your passwords:\")\n",
        "    for _ in range(num_passwords):\n",
        "        print(generate_password(length))\n",
        "\n",
        "\n",
        "main()\n"
      ]
    }
  ]
}