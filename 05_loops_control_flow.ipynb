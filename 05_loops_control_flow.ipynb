{
  "nbformat": 4,
  "nbformat_minor": 0,
  "metadata": {
    "colab": {
      "provenance": [],
      "authorship_tag": "ABX9TyOMOInlUBYf/YBjGsGcjQg9",
      "include_colab_link": true
    },
    "kernelspec": {
      "name": "python3",
      "display_name": "Python 3"
    },
    "language_info": {
      "name": "python"
    }
  },
  "cells": [
    {
      "cell_type": "markdown",
      "metadata": {
        "id": "view-in-github",
        "colab_type": "text"
      },
      "source": [
        "<a href=\"https://colab.research.google.com/github/RUBAS-25/learn-modern-ai-python-P4-ASSIGNMENTS-/blob/main/05_loops_control_flow.ipynb\" target=\"_parent\"><img src=\"https://colab.research.google.com/assets/colab-badge.svg\" alt=\"Open In Colab\"/></a>"
      ]
    },
    {
      "cell_type": "markdown",
      "source": [
        "**PROJECT 04 ASSIGNMENTS ( 00 TO 05 )**\n"
      ],
      "metadata": {
        "id": "iAJI0gMOzVlh"
      }
    },
    {
      "cell_type": "markdown",
      "source": [
        "**05_loops_control_flow**"
      ],
      "metadata": {
        "id": "ZTdzI_xPzJgn"
      }
    },
    {
      "cell_type": "markdown",
      "source": [
        "**00_guess_my_number**"
      ],
      "metadata": {
        "id": "fadQDBxkzJmW"
      }
    },
    {
      "cell_type": "code",
      "source": [
        "import random\n",
        "\n",
        "def main():\n",
        "    number_to_guess = random.randint(0, 99)\n",
        "    print(\"I am thinking of a number between 0 and 99...\")\n",
        "\n",
        "    while True:\n",
        "        guess = int(input(\"Enter a guess: \"))\n",
        "\n",
        "        if guess > number_to_guess:\n",
        "            print(\"Your guess is too high\")\n",
        "        elif guess < number_to_guess:\n",
        "            print(\"Your guess is too low\")\n",
        "        else:\n",
        "            print(f\"Congrats! The number was: {number_to_guess}\")\n",
        "            break\n",
        "\n",
        "if __name__ == '__main__':\n",
        "    main()\n"
      ],
      "metadata": {
        "colab": {
          "base_uri": "https://localhost:8080/"
        },
        "id": "I5bJ10xnzoX0",
        "outputId": "06d59373-2a6c-40b8-ef44-b937fd303c0f"
      },
      "execution_count": 1,
      "outputs": [
        {
          "output_type": "stream",
          "name": "stdout",
          "text": [
            "I am thinking of a number between 0 and 99...\n",
            "Enter a guess: 28\n",
            "Your guess is too high\n",
            "Enter a guess: 28\n",
            "Your guess is too high\n",
            "Enter a guess: 23\n",
            "Your guess is too high\n",
            "Enter a guess: 1\n",
            "Your guess is too low\n",
            "Enter a guess: 10\n",
            "Your guess is too high\n",
            "Enter a guess: 5\n",
            "Your guess is too high\n",
            "Enter a guess: 3\n",
            "Your guess is too low\n",
            "Enter a guess: 2\n",
            "Your guess is too low\n",
            "Enter a guess: 1\n",
            "Your guess is too low\n",
            "Enter a guess: 43\n",
            "Your guess is too high\n",
            "Enter a guess: 4\n",
            "Congrats! The number was: 4\n"
          ]
        }
      ]
    },
    {
      "cell_type": "markdown",
      "source": [
        "**01_fibonacci**"
      ],
      "metadata": {
        "id": "zbYOqN9tzJpF"
      }
    },
    {
      "cell_type": "code",
      "source": [
        "def main():\n",
        "    MAX = 10000\n",
        "    a, b = 0, 1\n",
        "\n",
        "    while a < MAX:\n",
        "        print(a, end=' ')\n",
        "        a, b = b, a + b\n",
        "\n",
        "if __name__ == '__main__':\n",
        "    main()\n"
      ],
      "metadata": {
        "colab": {
          "base_uri": "https://localhost:8080/"
        },
        "id": "934JjWLe0Ho-",
        "outputId": "6cd554c9-61e6-4ba1-df65-966560f7ef8f"
      },
      "execution_count": 2,
      "outputs": [
        {
          "output_type": "stream",
          "name": "stdout",
          "text": [
            "0 1 1 2 3 5 8 13 21 34 55 89 144 233 377 610 987 1597 2584 4181 6765 "
          ]
        }
      ]
    },
    {
      "cell_type": "markdown",
      "source": [
        "**02_print_events**"
      ],
      "metadata": {
        "id": "Y7y1XWfhzJsE"
      }
    },
    {
      "cell_type": "code",
      "source": [
        "def main():\n",
        "    for i in range(20):\n",
        "        print(i * 2, end=' ')\n",
        "\n",
        "if __name__ == '__main__':\n",
        "    main()\n"
      ],
      "metadata": {
        "colab": {
          "base_uri": "https://localhost:8080/"
        },
        "id": "vyWDnTHw07K0",
        "outputId": "9108f26c-d95f-4105-9a38-889abe9e3113"
      },
      "execution_count": 3,
      "outputs": [
        {
          "output_type": "stream",
          "name": "stdout",
          "text": [
            "0 2 4 6 8 10 12 14 16 18 20 22 24 26 28 30 32 34 36 38 "
          ]
        }
      ]
    },
    {
      "cell_type": "markdown",
      "source": [
        "**03_wholesome_machine**"
      ],
      "metadata": {
        "id": "2k5ctIO7zJu6"
      }
    },
    {
      "cell_type": "code",
      "source": [
        "def main():\n",
        "    affirmation = \"I am capable of doing anything I put my mind to.\"\n",
        "    print(\"Please type the following affirmation:\")\n",
        "    while True:\n",
        "        user_input = input()\n",
        "        if user_input == affirmation:\n",
        "            print(\"That's right! :)\")\n",
        "            break\n",
        "        else:\n",
        "            print(\"Hmmm That was not the affirmation. Please type the following affirmation:\")\n",
        "\n",
        "if __name__ == '__main__':\n",
        "    main()\n"
      ],
      "metadata": {
        "colab": {
          "base_uri": "https://localhost:8080/"
        },
        "id": "-yik9rOC1iEg",
        "outputId": "9b81d3c4-7821-4156-a5b6-5e6e5deff60e"
      },
      "execution_count": 4,
      "outputs": [
        {
          "output_type": "stream",
          "name": "stdout",
          "text": [
            "Please type the following affirmation:\n",
            "OK\n",
            "Hmmm That was not the affirmation. Please type the following affirmation:\n",
            "\n",
            "Hmmm That was not the affirmation. Please type the following affirmation:\n",
            "I am capable of doing anything I put my mind to.\n",
            "That's right! :)\n"
          ]
        }
      ]
    },
    {
      "cell_type": "markdown",
      "source": [
        "**04_liftoff**"
      ],
      "metadata": {
        "id": "fgWbcWaazJyY"
      }
    },
    {
      "cell_type": "code",
      "source": [
        "def main():\n",
        "    for i in range(10, 0, -1):  # Start at 10, stop before 0, step -1\n",
        "        print(i)\n",
        "    print(\"Liftoff!\")\n",
        "\n",
        "if __name__ == '__main__':\n",
        "    main()\n"
      ],
      "metadata": {
        "colab": {
          "base_uri": "https://localhost:8080/"
        },
        "id": "laL4cMip2nY8",
        "outputId": "8b9eb1a5-11e5-4698-b1e9-e5d6b4bb2298"
      },
      "execution_count": 5,
      "outputs": [
        {
          "output_type": "stream",
          "name": "stdout",
          "text": [
            "10\n",
            "9\n",
            "8\n",
            "7\n",
            "6\n",
            "5\n",
            "4\n",
            "3\n",
            "2\n",
            "1\n",
            "Liftoff!\n"
          ]
        }
      ]
    },
    {
      "cell_type": "markdown",
      "source": [
        "**05_double_it**"
      ],
      "metadata": {
        "id": "vJ5i35E5zJ7_"
      }
    },
    {
      "cell_type": "code",
      "source": [
        "def main():\n",
        "    curr_value = int(input(\"Enter a number: \"))\n",
        "\n",
        "    while curr_value < 100:\n",
        "        curr_value = curr_value * 2\n",
        "        print(curr_value)\n",
        "\n",
        "if __name__ == '__main__':\n",
        "    main()\n"
      ],
      "metadata": {
        "colab": {
          "base_uri": "https://localhost:8080/"
        },
        "id": "iLNaHL1Y3xbK",
        "outputId": "277a3602-02ca-4fa4-d139-9b4b02a906e8"
      },
      "execution_count": 6,
      "outputs": [
        {
          "output_type": "stream",
          "name": "stdout",
          "text": [
            "Enter a number: 28\n",
            "56\n",
            "112\n"
          ]
        }
      ]
    }
  ]
}