{
  "nbformat": 4,
  "nbformat_minor": 0,
  "metadata": {
    "colab": {
      "provenance": [],
      "authorship_tag": "ABX9TyNLOmbSUQp3grwUbvklaDl4",
      "include_colab_link": true
    },
    "kernelspec": {
      "name": "python3",
      "display_name": "Python 3"
    },
    "language_info": {
      "name": "python"
    }
  },
  "cells": [
    {
      "cell_type": "markdown",
      "metadata": {
        "id": "view-in-github",
        "colab_type": "text"
      },
      "source": [
        "<a href=\"https://colab.research.google.com/github/RUBAS-25/learn-modern-ai-python-P4-ASSIGNMENTS-/blob/main/00_INTRO_TO_PYTHON.ipynb\" target=\"_parent\"><img src=\"https://colab.research.google.com/assets/colab-badge.svg\" alt=\"Open In Colab\"/></a>"
      ]
    },
    {
      "cell_type": "markdown",
      "source": [
        " **PROJECT 04\n",
        "ASSIGNMENTS ( 00 TO 05 )**\n",
        "\n",
        "**00_INTRO_PYTHON**"
      ],
      "metadata": {
        "id": "edycvnmRp9bg"
      }
    },
    {
      "cell_type": "markdown",
      "source": [
        "**01_ADD_TWO_NUMBERS**\n",
        "\n"
      ],
      "metadata": {
        "id": "0iqanzTDq1p1"
      }
    },
    {
      "cell_type": "code",
      "source": [
        "def main():\n",
        "    print(\"ADDING TWO NUMBERS\")\n",
        "\n",
        "    # Prompt the user to enter the first number\n",
        "    num1 = input(\"Enter first number: \")\n",
        "    num1 = int(num1)  # Convert input to integer\n",
        "\n",
        "    # Prompt the user to enter the second number\n",
        "    num2 = input(\"Enter second number: \")\n",
        "    num2 = int(num2)  # Convert input to integer\n",
        "\n",
        "    # Calculate the sum\n",
        "    total = num1 + num2\n",
        "\n",
        "    # Print the total sum with a message\n",
        "    print(\"The total is \" + str(total) + \".\")\n",
        "\n",
        "# This provided line is required at the end of\n",
        "# Python file to call the main() function.\n",
        "if __name__ == '__main__':\n",
        "    main()\n"
      ],
      "metadata": {
        "colab": {
          "base_uri": "https://localhost:8080/"
        },
        "id": "SsLH5Aa6rFLm",
        "outputId": "9c5833fd-6f34-4687-8371-6aff0cdce190"
      },
      "execution_count": 1,
      "outputs": [
        {
          "output_type": "stream",
          "name": "stdout",
          "text": [
            "ADDING TWO NUMBERS\n",
            "Enter first number: 22\n",
            "Enter second number: 28\n",
            "The total is 50.\n"
          ]
        }
      ]
    },
    {
      "cell_type": "markdown",
      "source": [
        "**02_AGREEMENT_BOT**"
      ],
      "metadata": {
        "id": "SWGEBhjOsglX"
      }
    },
    {
      "cell_type": "code",
      "source": [
        "def main():\n",
        "    # Ask the user for their favorite animal\n",
        "    animal = input(\"What's your favorite animal? \")\n",
        "\n",
        "    # Respond with a message including the user's favorite animal\n",
        "    print(\"My favorite animal is also \" + animal + \"!\")\n",
        "\n",
        "# This provided line is required at the end of\n",
        "# Python file to call the main() function.\n",
        "if __name__ == '__main__':\n",
        "    main()\n"
      ],
      "metadata": {
        "colab": {
          "base_uri": "https://localhost:8080/"
        },
        "id": "_lz_q09-soy0",
        "outputId": "c82865b8-90dc-4c79-fad4-6a7857f31847"
      },
      "execution_count": 2,
      "outputs": [
        {
          "output_type": "stream",
          "name": "stdout",
          "text": [
            "What's your favorite animal? PANDA\n",
            "My favorite animal is also PANDA!\n"
          ]
        }
      ]
    },
    {
      "cell_type": "markdown",
      "source": [
        "**03_FAHRENHEIT_TO_CELSIUS**"
      ],
      "metadata": {
        "id": "hl9cE3kjs_sP"
      }
    },
    {
      "cell_type": "code",
      "source": [
        "def main():\n",
        "    # Prompt the user for a temperature in Fahrenheit\n",
        "    degrees_fahrenheit = input(\"ENTER TEMPERATURE OF YOUR CITY IN FAHRENHEIT: \")\n",
        "    degrees_fahrenheit = float(degrees_fahrenheit)  # Convert input to float\n",
        "\n",
        "    # Convert to Celsius\n",
        "    degrees_celsius = (degrees_fahrenheit - 32) * 5.0/9.0\n",
        "\n",
        "    # Print the result\n",
        "    print(\"TEMPERATURE: \" + str(degrees_fahrenheit) + \"F = \" + str(degrees_celsius) + \"C\")\n",
        "\n",
        "# This provided line is required at the end of\n",
        "# Python file to call the main() function.\n",
        "if __name__ == '__main__':\n",
        "    main()\n"
      ],
      "metadata": {
        "colab": {
          "base_uri": "https://localhost:8080/"
        },
        "id": "uXxcAz_HtAB0",
        "outputId": "01a95b4f-99db-4204-e7be-00272e6a0366"
      },
      "execution_count": 4,
      "outputs": [
        {
          "output_type": "stream",
          "name": "stdout",
          "text": [
            "ENTER TEMPERATURE OF YOUR CITY IN FAHRENHEIT: 86\n",
            "TEMPERATURE: 86.0F = 30.0C\n"
          ]
        }
      ]
    },
    {
      "cell_type": "markdown",
      "source": [
        "**04_HOW_OLD_ARE_THEY**"
      ],
      "metadata": {
        "id": "Gc1PYGsMtx6t"
      }
    },
    {
      "cell_type": "code",
      "source": [
        "def main():\n",
        "    # Store each person's age in a variable\n",
        "    Anton = 21\n",
        "    Beth = Anton + 6\n",
        "    Chen = Beth + 20\n",
        "    Drew = Chen + Anton\n",
        "    Ethan = Chen\n",
        "\n",
        "    # Print names and ages\n",
        "    print(\"Anton is \" + str(Anton))\n",
        "    print(\"Beth is \" + str(Beth))\n",
        "    print(\"Chen is \" + str(Chen))\n",
        "    print(\"Drew is \" + str(Drew))\n",
        "    print(\"Ethan is \" + str(Ethan))\n",
        "\n",
        "# This provided line is required at the end of\n",
        "# Python file to call the main() function.\n",
        "if __name__ == '__main__':\n",
        "    main()\n"
      ],
      "metadata": {
        "colab": {
          "base_uri": "https://localhost:8080/"
        },
        "id": "zo4mAuDgt7Kf",
        "outputId": "2fa1cb18-5750-461b-cc35-f6297c85b401"
      },
      "execution_count": 5,
      "outputs": [
        {
          "output_type": "stream",
          "name": "stdout",
          "text": [
            "Anton is 21\n",
            "Beth is 27\n",
            "Chen is 47\n",
            "Drew is 68\n",
            "Ethan is 47\n"
          ]
        }
      ]
    },
    {
      "cell_type": "markdown",
      "source": [
        "***05_TRIANLGE_PERIMETER***"
      ],
      "metadata": {
        "id": "C_br_A9nxn3M"
      }
    },
    {
      "cell_type": "code",
      "source": [
        "def main():\n",
        "    # Prompt the user for each side length\n",
        "    side1 = float(input(\"ENTER THE LENGTH OF SIDE 1: \"))\n",
        "    side2 = float(input(\"ENTER THE LENGTH OF SIDE 2: \"))\n",
        "    side3 = float(input(\"ENTER THE LENGTH OF SIDE 3: \"))\n",
        "\n",
        "    # Calculate the perimeter\n",
        "    perimeter = side1 + side2 + side3\n",
        "\n",
        "    # Print the perimeter\n",
        "    print(\"The perimeter of the triangle is \" + str(perimeter))\n",
        "\n",
        "# This provided line is required at the end of\n",
        "# Python file to call the main() function.\n",
        "if __name__ == '__main__':\n",
        "    main()\n"
      ],
      "metadata": {
        "colab": {
          "base_uri": "https://localhost:8080/"
        },
        "id": "vOOHSEBfxrf8",
        "outputId": "39285e8a-5b58-459f-8065-4d9260c95782"
      },
      "execution_count": 8,
      "outputs": [
        {
          "output_type": "stream",
          "name": "stdout",
          "text": [
            "ENTER THE LENGTH OF SIDE 1: 4\n",
            "ENTER THE LENGTH OF SIDE 2: 4\n",
            "ENTER THE LENGTH OF SIDE 3: 6\n",
            "The perimeter of the triangle is 14.0\n"
          ]
        }
      ]
    },
    {
      "cell_type": "markdown",
      "source": [
        "**06_SQUARE_NUMBER**"
      ],
      "metadata": {
        "id": "VO2FWXwiyTZb"
      }
    },
    {
      "cell_type": "code",
      "source": [
        "def main():\n",
        "    # Ask the user for a number\n",
        "    number = float(input(\"Type a number to see its square: \"))\n",
        "\n",
        "    # Calculate the square\n",
        "    square = number * number\n",
        "\n",
        "    # Print the result\n",
        "    print(str(number) + \" squared is \" + str(square))\n",
        "\n",
        "# This provided line is required at the end of\n",
        "# Python file to call the main() function.\n",
        "if __name__ == '__main__':\n",
        "    main()\n"
      ],
      "metadata": {
        "colab": {
          "base_uri": "https://localhost:8080/"
        },
        "id": "TTygtC0Gyd2_",
        "outputId": "de1fff93-bd08-44bc-d0de-1faae4987d3d"
      },
      "execution_count": 9,
      "outputs": [
        {
          "output_type": "stream",
          "name": "stdout",
          "text": [
            "Type a number to see its square: 8\n",
            "8.0 squared is 64.0\n"
          ]
        }
      ]
    }
  ]
}