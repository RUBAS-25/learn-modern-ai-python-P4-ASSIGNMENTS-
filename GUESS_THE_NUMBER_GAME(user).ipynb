{
  "nbformat": 4,
  "nbformat_minor": 0,
  "metadata": {
    "colab": {
      "provenance": [],
      "authorship_tag": "ABX9TyMEFRilkG7HL0+fxBtqvitR",
      "include_colab_link": true
    },
    "kernelspec": {
      "name": "python3",
      "display_name": "Python 3"
    },
    "language_info": {
      "name": "python"
    }
  },
  "cells": [
    {
      "cell_type": "markdown",
      "metadata": {
        "id": "view-in-github",
        "colab_type": "text"
      },
      "source": [
        "<a href=\"https://colab.research.google.com/github/RUBAS-25/learn-modern-ai-python-P4-ASSIGNMENTS-/blob/main/GUESS_THE_NUMBER_GAME(user).ipynb\" target=\"_parent\"><img src=\"https://colab.research.google.com/assets/colab-badge.svg\" alt=\"Open In Colab\"/></a>"
      ]
    },
    {
      "cell_type": "code",
      "execution_count": 1,
      "metadata": {
        "colab": {
          "base_uri": "https://localhost:8080/"
        },
        "id": "ArwuXBXoIY8x",
        "outputId": "c25a71c7-7ba6-4a3f-f3d9-bab68cdc7b63"
      },
      "outputs": [
        {
          "output_type": "stream",
          "name": "stdout",
          "text": [
            "Welcome to the Guess the Number Game!\n",
            "\n",
            "I'm thinking of a number between 1 and 100.\n",
            "Try to guess it. You have 5 attempts.\n",
            "\n",
            "Enter your guess: 50\n",
            "Too low.\n",
            "\n",
            "You have 4 attempt(s) left.\n",
            "\n",
            "Enter your guess: 70\n",
            "Too high.\n",
            "\n",
            "You have 3 attempt(s) left.\n",
            "\n",
            "Enter your guess: 60\n",
            "Too low.\n",
            "\n",
            "You have 2 attempt(s) left.\n",
            "\n",
            "Enter your guess: 65\n",
            "Too low.\n",
            "\n",
            "You have 1 attempt(s) left.\n",
            "\n",
            "Enter your guess: 67\n",
            "Too low.\n",
            "\n",
            "Sorry, you're out of attempts. The number was 69.\n",
            "\n",
            "Would you like to play again? (yes/no): no\n",
            "Thanks for playing!\n"
          ]
        }
      ],
      "source": [
        "# Guess the Number Game (User guesses) - Google Colab version\n",
        "\n",
        "import random\n",
        "\n",
        "def guess_the_number():\n",
        "    print(\"Welcome to the Guess the Number Game!\\n\")\n",
        "    print(\"I'm thinking of a number between 1 and 100.\")\n",
        "    print(\"Try to guess it. You have 5 attempts.\\n\")\n",
        "\n",
        "    secret_number = random.randint(1, 100)\n",
        "    attempts = 5\n",
        "\n",
        "    while attempts > 0:\n",
        "        try:\n",
        "            user_guess = int(input(\"Enter your guess: \"))\n",
        "        except ValueError:\n",
        "            print(\"Please enter a valid number.\\n\")\n",
        "            continue\n",
        "\n",
        "        if user_guess < 1 or user_guess > 100:\n",
        "            print(\"Number must be between 1 and 100.\\n\")\n",
        "            continue\n",
        "\n",
        "        if user_guess < secret_number:\n",
        "            print(\"Too low.\\n\")\n",
        "        elif user_guess > secret_number:\n",
        "            print(\"Too high.\\n\")\n",
        "        else:\n",
        "            print(f\"Congratulations! You guessed the number {secret_number} correctly.\")\n",
        "            break\n",
        "\n",
        "        attempts -= 1\n",
        "\n",
        "        if attempts > 0:\n",
        "            print(f\"You have {attempts} attempt(s) left.\\n\")\n",
        "        else:\n",
        "            print(f\"Sorry, you're out of attempts. The number was {secret_number}.\\n\")\n",
        "\n",
        "    play_again = input(\"Would you like to play again? (yes/no): \").strip().lower()\n",
        "    if play_again == \"yes\":\n",
        "        print(\"\\nRestarting the game...\\n\")\n",
        "        guess_the_number()\n",
        "    else:\n",
        "        print(\"Thanks for playing!\")\n",
        "\n",
        "# Start the game\n",
        "guess_the_number()\n"
      ]
    }
  ]
}