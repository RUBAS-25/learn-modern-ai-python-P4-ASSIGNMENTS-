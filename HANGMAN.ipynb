{
  "nbformat": 4,
  "nbformat_minor": 0,
  "metadata": {
    "colab": {
      "provenance": [],
      "authorship_tag": "ABX9TyOYK62oIMvCp5g0WED7cS/j",
      "include_colab_link": true
    },
    "kernelspec": {
      "name": "python3",
      "display_name": "Python 3"
    },
    "language_info": {
      "name": "python"
    }
  },
  "cells": [
    {
      "cell_type": "markdown",
      "metadata": {
        "id": "view-in-github",
        "colab_type": "text"
      },
      "source": [
        "<a href=\"https://colab.research.google.com/github/RUBAS-25/learn-modern-ai-python-P4-ASSIGNMENTS-/blob/main/HANGMAN.ipynb\" target=\"_parent\"><img src=\"https://colab.research.google.com/assets/colab-badge.svg\" alt=\"Open In Colab\"/></a>"
      ]
    },
    {
      "cell_type": "markdown",
      "source": [
        "# **HANGMAN**\n",
        "**Hangman Game is a classic word guessing game. The computer randomly selects a word, and the player must guess it one letter at a time. The player has a limited number of incorrect guesses before the game ends. This project teaches core programming skills like using loops, conditionals, lists, and randomization in Python.**"
      ],
      "metadata": {
        "id": "FEJWd6ouYtO0"
      }
    },
    {
      "cell_type": "code",
      "source": [
        "import random\n",
        "\n",
        "def hangman():\n",
        "    words = [\"AUSTRALIA\", \"KNOWLEDGE\", \"CRICKET\", \"GEMINI\", \"UNIVERSITY\", \"AIRPLANE\", \"BOTTLE\"]\n",
        "    word_to_guess = random.choice(words).lower()\n",
        "    guessed_letters = []\n",
        "    tries = 6\n",
        "    display_word = [\"_\"] * len(word_to_guess)\n",
        "\n",
        "    print(\"Welcome to Hangman!\")\n",
        "    print(\"Guess the word before you run out of tries.\")\n",
        "\n",
        "    while tries > 0 and \"_\" in display_word:\n",
        "        print(\"\\nWord: \" + \" \".join(display_word))\n",
        "        print(f\"Tries left: {tries}\")\n",
        "        print(f\"Guessed letters: {', '.join(guessed_letters)}\")\n",
        "\n",
        "        guess = input(\"Enter a letter: \").lower()\n",
        "\n",
        "        if not guess.isalpha() or len(guess) != 1:\n",
        "            print(\"Please enter a single alphabetical character.\")\n",
        "            continue\n",
        "        if guess in guessed_letters:\n",
        "            print(\"You've already guessed that letter.\")\n",
        "            continue\n",
        "\n",
        "        guessed_letters.append(guess)\n",
        "\n",
        "        if guess in word_to_guess:\n",
        "            print(f\"Good job! '{guess}' is in the word.\")\n",
        "            for i, letter in enumerate(word_to_guess):\n",
        "                if letter == guess:\n",
        "                    display_word[i] = guess\n",
        "        else:\n",
        "            print(f\"Sorry, '{guess}' is not in the word.\")\n",
        "            tries -= 1\n",
        "\n",
        "    if \"_\" not in display_word:\n",
        "        print(\"\\nCongratulations! You guessed the word:\", word_to_guess)\n",
        "    else:\n",
        "        print(\"\\nYou ran out of tries. The word was:\", word_to_guess)\n",
        "\n",
        "# Start the game\n",
        "hangman()\n"
      ],
      "metadata": {
        "colab": {
          "base_uri": "https://localhost:8080/"
        },
        "id": "tbibxLIkY3FX",
        "outputId": "a0674402-a325-40a6-f034-54d1efd8dbad"
      },
      "execution_count": 1,
      "outputs": [
        {
          "output_type": "stream",
          "name": "stdout",
          "text": [
            "Welcome to Hangman!\n",
            "Guess the word before you run out of tries.\n",
            "\n",
            "Word: _ _ _ _ _ _ _ _ _\n",
            "Tries left: 6\n",
            "Guessed letters: \n",
            "Enter a letter: A\n",
            "Sorry, 'a' is not in the word.\n",
            "\n",
            "Word: _ _ _ _ _ _ _ _ _\n",
            "Tries left: 5\n",
            "Guessed letters: a\n",
            "Enter a letter: E\n",
            "Good job! 'e' is in the word.\n",
            "\n",
            "Word: _ _ _ _ _ e _ _ e\n",
            "Tries left: 5\n",
            "Guessed letters: a, e\n",
            "Enter a letter: I\n",
            "Sorry, 'i' is not in the word.\n",
            "\n",
            "Word: _ _ _ _ _ e _ _ e\n",
            "Tries left: 4\n",
            "Guessed letters: a, e, i\n",
            "Enter a letter: O\n",
            "Good job! 'o' is in the word.\n",
            "\n",
            "Word: _ _ o _ _ e _ _ e\n",
            "Tries left: 4\n",
            "Guessed letters: a, e, i, o\n",
            "Enter a letter: U\n",
            "Sorry, 'u' is not in the word.\n",
            "\n",
            "Word: _ _ o _ _ e _ _ e\n",
            "Tries left: 3\n",
            "Guessed letters: a, e, i, o, u\n",
            "Enter a letter: B\n",
            "Sorry, 'b' is not in the word.\n",
            "\n",
            "Word: _ _ o _ _ e _ _ e\n",
            "Tries left: 2\n",
            "Guessed letters: a, e, i, o, u, b\n",
            "Enter a letter: M\n",
            "Sorry, 'm' is not in the word.\n",
            "\n",
            "Word: _ _ o _ _ e _ _ e\n",
            "Tries left: 1\n",
            "Guessed letters: a, e, i, o, u, b, m\n",
            "Enter a letter: R\n",
            "Sorry, 'r' is not in the word.\n",
            "\n",
            "You ran out of tries. The word was: knowledge\n"
          ]
        }
      ]
    }
  ]
}