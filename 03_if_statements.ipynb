{
  "nbformat": 4,
  "nbformat_minor": 0,
  "metadata": {
    "colab": {
      "provenance": [],
      "authorship_tag": "ABX9TyPo2c73Gm30WhWH1LQtJUvD",
      "include_colab_link": true
    },
    "kernelspec": {
      "name": "python3",
      "display_name": "Python 3"
    },
    "language_info": {
      "name": "python"
    }
  },
  "cells": [
    {
      "cell_type": "markdown",
      "metadata": {
        "id": "view-in-github",
        "colab_type": "text"
      },
      "source": [
        "<a href=\"https://colab.research.google.com/github/RUBAS-25/learn-modern-ai-python-P4-ASSIGNMENTS-/blob/main/03_if_statements.ipynb\" target=\"_parent\"><img src=\"https://colab.research.google.com/assets/colab-badge.svg\" alt=\"Open In Colab\"/></a>"
      ]
    },
    {
      "cell_type": "markdown",
      "source": [
        "**01_print_events**"
      ],
      "metadata": {
        "id": "urEO4Cg2iz_l"
      }
    },
    {
      "cell_type": "code",
      "source": [
        "def main():\n",
        "    for i in range(20):\n",
        "        print(i * 2)\n",
        "\n",
        "if __name__ == '__main__':\n",
        "    main()\n"
      ],
      "metadata": {
        "colab": {
          "base_uri": "https://localhost:8080/"
        },
        "id": "KA8-1S-ui51k",
        "outputId": "7c837924-b6c1-4771-f49e-8830a6c6c0e5"
      },
      "execution_count": 1,
      "outputs": [
        {
          "output_type": "stream",
          "name": "stdout",
          "text": [
            "0\n",
            "2\n",
            "4\n",
            "6\n",
            "8\n",
            "10\n",
            "12\n",
            "14\n",
            "16\n",
            "18\n",
            "20\n",
            "22\n",
            "24\n",
            "26\n",
            "28\n",
            "30\n",
            "32\n",
            "34\n",
            "36\n",
            "38\n"
          ]
        }
      ]
    },
    {
      "cell_type": "markdown",
      "source": [
        "**02_international_voting_age**"
      ],
      "metadata": {
        "id": "SMB9idxgi0L4"
      }
    },
    {
      "cell_type": "code",
      "source": [
        "def main():\n",
        "    age = int(input(\"How old are you? \"))\n",
        "\n",
        "    if age >= 18:\n",
        "        print(\"You can vote in Pakistan where the voting age is 18.\")\n",
        "    else:\n",
        "        print(\"You cannot  vote in Pakistan where the voting age is 18.\")\n",
        "\n",
        "    if age >= 25:\n",
        "        print(\"You can vote in Stanlau where the voting age is 25.\")\n",
        "    else:\n",
        "        print(\"You cannot vote in Stanlau where the voting age is 25.\")\n",
        "\n",
        "    if age >= 48:\n",
        "        print(\"You can vote in Mayengua where the voting age is 48.\")\n",
        "    else:\n",
        "        print(\"You cannot vote in Mayengua where the voting age is 48.\")\n",
        "\n",
        "if __name__ == '__main__':\n",
        "    main()\n"
      ],
      "metadata": {
        "colab": {
          "base_uri": "https://localhost:8080/"
        },
        "id": "ukfMz93XjDlG",
        "outputId": "c02e4cf8-5c3f-4998-a65a-9996bf164e74"
      },
      "execution_count": 2,
      "outputs": [
        {
          "output_type": "stream",
          "name": "stdout",
          "text": [
            "How old are you? 22\n",
            "You can vote in Pakistan where the voting age is 18.\n",
            "You cannot vote in Stanlau where the voting age is 25.\n",
            "You cannot vote in Mayengua where the voting age is 48.\n"
          ]
        }
      ]
    },
    {
      "cell_type": "markdown",
      "source": [
        "**03_leap_year**"
      ],
      "metadata": {
        "id": "9HFJE3BLi0V1"
      }
    },
    {
      "cell_type": "code",
      "source": [
        "def main():\n",
        "    year = int(input(\"Enter a year: \"))\n",
        "\n",
        "    if (year % 4 == 0 and year % 100 != 0) or (year % 400 == 0):\n",
        "        print(\"It is a leap year!\")\n",
        "    else:\n",
        "        print(\"It is not a leap year.\")\n",
        "\n",
        "if __name__ == '__main__':\n",
        "    main()\n"
      ],
      "metadata": {
        "colab": {
          "base_uri": "https://localhost:8080/"
        },
        "id": "jovJBbsrjgZw",
        "outputId": "6d317f41-0031-4fb3-a37e-4b14f647411f"
      },
      "execution_count": 4,
      "outputs": [
        {
          "output_type": "stream",
          "name": "stdout",
          "text": [
            "Enter a year: 2025\n",
            "It is not a leap year.\n"
          ]
        }
      ]
    },
    {
      "cell_type": "markdown",
      "source": [
        "**04_tall_enough_to_ride**"
      ],
      "metadata": {
        "id": "QSr4185xi0ee"
      }
    },
    {
      "cell_type": "code",
      "source": [
        "def main():\n",
        "    height = input(\"How tall are you? \")\n",
        "\n",
        "    if height:  # check if something was entered\n",
        "        height = int(height)\n",
        "        if height >= 50:\n",
        "            print(\"You're tall enough to ride!\")\n",
        "        else:\n",
        "            print(\"You're not tall enough to ride, but maybe next year!\")\n",
        "\n",
        "if __name__ == '__main__':\n",
        "    main()\n"
      ],
      "metadata": {
        "colab": {
          "base_uri": "https://localhost:8080/"
        },
        "id": "hpm6vljNkTzt",
        "outputId": "0fea62f1-30b8-4347-f57d-499043b13986"
      },
      "execution_count": 6,
      "outputs": [
        {
          "output_type": "stream",
          "name": "stdout",
          "text": [
            "How tall are you? 5\n",
            "You're not tall enough to ride, but maybe next year!\n"
          ]
        }
      ]
    },
    {
      "cell_type": "markdown",
      "source": [
        "**05_random_numbers**"
      ],
      "metadata": {
        "id": "8rTjxKJLi0nf"
      }
    },
    {
      "cell_type": "code",
      "source": [
        "import random\n",
        "\n",
        "def main():\n",
        "    for _ in range(10):\n",
        "        print(random.randint(1, 100), end=' ')\n",
        "    print()  # for a newline after printing all numbers\n",
        "\n",
        "if __name__ == '__main__':\n",
        "    main()\n"
      ],
      "metadata": {
        "colab": {
          "base_uri": "https://localhost:8080/"
        },
        "id": "tuLz-vzrklsx",
        "outputId": "4ad6501a-f319-4856-9f75-d71ec2fb2d2c"
      },
      "execution_count": 8,
      "outputs": [
        {
          "output_type": "stream",
          "name": "stdout",
          "text": [
            "51 50 6 61 14 47 21 52 55 20 \n"
          ]
        }
      ]
    }
  ]
}