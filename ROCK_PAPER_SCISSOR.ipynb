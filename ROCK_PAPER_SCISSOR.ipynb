{
  "nbformat": 4,
  "nbformat_minor": 0,
  "metadata": {
    "colab": {
      "provenance": [],
      "authorship_tag": "ABX9TyNc1F8E5iPeWdQQTM4F9e7V",
      "include_colab_link": true
    },
    "kernelspec": {
      "name": "python3",
      "display_name": "Python 3"
    },
    "language_info": {
      "name": "python"
    }
  },
  "cells": [
    {
      "cell_type": "markdown",
      "metadata": {
        "id": "view-in-github",
        "colab_type": "text"
      },
      "source": [
        "<a href=\"https://colab.research.google.com/github/RUBAS-25/learn-modern-ai-python-P4-ASSIGNMENTS-/blob/main/ROCK_PAPER_SCISSOR.ipynb\" target=\"_parent\"><img src=\"https://colab.research.google.com/assets/colab-badge.svg\" alt=\"Open In Colab\"/></a>"
      ]
    },
    {
      "cell_type": "markdown",
      "source": [
        "# **ROCK_PAPER_SCISSOR (User vs Computer)**\n",
        "**🎮\n",
        "This is a simple interactive Python game where the user plays Rock, Paper, Scissors against the computer. The game uses Python's random module to let the computer randomly choose between rock, paper, or scissors. The user is prompted to enter their choice, and the program then compares both choices using conditional statements to determine the winner.**"
      ],
      "metadata": {
        "id": "DuSN7xC5UX6H"
      }
    },
    {
      "cell_type": "code",
      "source": [
        "import random\n",
        "\n",
        "def play_game():\n",
        "    print(\"Welcome to Rock, Paper, Scissors!\\n\")\n",
        "\n",
        "    options = [\"rock\", \"paper\", \"scissors\"]\n",
        "    user_choice = input(\"Choose rock, paper, or scissors: \").lower()\n",
        "\n",
        "    if user_choice not in options:\n",
        "        print(\"Invalid choice. Please select rock, paper, or scissors.\")\n",
        "        return\n",
        "\n",
        "    computer_choice = random.choice(options)\n",
        "    print(f\"\\nComputer chose: {computer_choice}\")\n",
        "    print(f\"You chose: {user_choice}\")\n",
        "\n",
        "    if user_choice == computer_choice:\n",
        "        print(\"It's a tie!\")\n",
        "    elif (\n",
        "        (user_choice == \"rock\" and computer_choice == \"scissors\") or\n",
        "        (user_choice == \"paper\" and computer_choice == \"rock\") or\n",
        "        (user_choice == \"scissors\" and computer_choice == \"paper\")\n",
        "    ):\n",
        "        print(\"You win!\")\n",
        "    else:\n",
        "        print(\"You lose.\")\n",
        "\n",
        "    again = input(\"\\nPlay again? (yes/no): \").lower()\n",
        "    if again == \"yes\":\n",
        "        print()\n",
        "        play_game()\n",
        "    else:\n",
        "        print(\"Thanks for playing!\")\n",
        "\n",
        "# Start the game\n",
        "play_game()\n"
      ],
      "metadata": {
        "colab": {
          "base_uri": "https://localhost:8080/"
        },
        "id": "sj0lPEU8UcMy",
        "outputId": "6af05a1c-4e09-475c-94f0-0713ad2eb289"
      },
      "execution_count": 2,
      "outputs": [
        {
          "output_type": "stream",
          "name": "stdout",
          "text": [
            "Welcome to Rock, Paper, Scissors!\n",
            "\n",
            "Choose rock, paper, or scissors: paper\n",
            "\n",
            "Computer chose: paper\n",
            "You chose: paper\n",
            "It's a tie!\n",
            "\n",
            "Play again? (yes/no): yes\n",
            "\n",
            "Welcome to Rock, Paper, Scissors!\n",
            "\n",
            "Choose rock, paper, or scissors: rock\n",
            "\n",
            "Computer chose: rock\n",
            "You chose: rock\n",
            "It's a tie!\n",
            "\n",
            "Play again? (yes/no): yes\n",
            "\n",
            "Welcome to Rock, Paper, Scissors!\n",
            "\n",
            "Choose rock, paper, or scissors: rock\n",
            "\n",
            "Computer chose: scissors\n",
            "You chose: rock\n",
            "You win!\n",
            "\n",
            "Play again? (yes/no): no\n",
            "Thanks for playing!\n"
          ]
        }
      ]
    },
    {
      "cell_type": "markdown",
      "source": [
        "# **ROCK_PAPER_SCISSOR (User vs User)**\n",
        "**This a 2-player version of the Rock, Paper, Scissors game in Python, which allows two users to play against each other by entering their choices in turn, with results based on classic game rules**"
      ],
      "metadata": {
        "id": "8HNFYV26WBhQ"
      }
    },
    {
      "cell_type": "code",
      "source": [
        "def get_player_choice(player_num):\n",
        "    choice = input(f\"Player {player_num}, enter your choice (rock, paper, or scissors): \").strip().lower()\n",
        "    while choice not in [\"rock\", \"paper\", \"scissors\"]:\n",
        "        print(\"Invalid choice! Please choose rock, paper, or scissors.\")\n",
        "        choice = input(f\"Player {player_num}, enter your choice (rock, paper, or scissors): \").strip().lower()\n",
        "    return choice\n",
        "\n",
        "def determine_winner(choice1, choice2):\n",
        "    if choice1 == choice2:\n",
        "        return \"It's a tie!\"\n",
        "    elif (choice1 == \"rock\" and choice2 == \"scissors\") or \\\n",
        "         (choice1 == \"scissors\" and choice2 == \"paper\") or \\\n",
        "         (choice1 == \"paper\" and choice2 == \"rock\"):\n",
        "        return \"Player 1 wins!\"\n",
        "    else:\n",
        "        return \"Player 2 wins!\"\n",
        "\n",
        "def play_game():\n",
        "    print(\"\\nWelcome to Rock, Paper, Scissors - 2 Player Mode!\\n\")\n",
        "\n",
        "    player1 = get_player_choice(1)\n",
        "    # Clear screen-style separator (optional for terminal)\n",
        "    print(\"\\n\" + \"-\" * 30 + \"\\n\" * 10)\n",
        "    player2 = get_player_choice(2)\n",
        "\n",
        "    print(\"\\n--- RESULT ---\")\n",
        "    print(f\"Player 1 chose: {player1}\")\n",
        "    print(f\"Player 2 chose: {player2}\")\n",
        "    result = determine_winner(player1, player2)\n",
        "    print(result)\n",
        "\n",
        "    again = input(\"\\nDo you want to play again? (yes/no): \").strip().lower()\n",
        "    if again == \"yes\":\n",
        "        play_game()\n",
        "    else:\n",
        "        print(\"Thanks for playing!\")\n",
        "\n",
        "play_game()\n"
      ],
      "metadata": {
        "colab": {
          "base_uri": "https://localhost:8080/"
        },
        "id": "G_J_Ba9rV0YK",
        "outputId": "e8e5a5d6-81dd-4528-e63e-16cf87b8d20c"
      },
      "execution_count": 3,
      "outputs": [
        {
          "output_type": "stream",
          "name": "stdout",
          "text": [
            "\n",
            "Welcome to Rock, Paper, Scissors - 2 Player Mode!\n",
            "\n",
            "Player 1, enter your choice (rock, paper, or scissors): ROCK\n",
            "\n",
            "------------------------------\n",
            "\n",
            "\n",
            "\n",
            "\n",
            "\n",
            "\n",
            "\n",
            "\n",
            "\n",
            "\n",
            "Player 2, enter your choice (rock, paper, or scissors): SCISSORS\n",
            "\n",
            "--- RESULT ---\n",
            "Player 1 chose: rock\n",
            "Player 2 chose: scissors\n",
            "Player 1 wins!\n",
            "\n",
            "Do you want to play again? (yes/no): NO\n",
            "Thanks for playing!\n"
          ]
        }
      ]
    }
  ]
}