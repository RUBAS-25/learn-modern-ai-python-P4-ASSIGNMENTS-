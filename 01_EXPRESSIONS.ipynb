{
  "nbformat": 4,
  "nbformat_minor": 0,
  "metadata": {
    "colab": {
      "provenance": [],
      "authorship_tag": "ABX9TyNVlcmwylU0gb7OLRs0/TSh",
      "include_colab_link": true
    },
    "kernelspec": {
      "name": "python3",
      "display_name": "Python 3"
    },
    "language_info": {
      "name": "python"
    }
  },
  "cells": [
    {
      "cell_type": "markdown",
      "metadata": {
        "id": "view-in-github",
        "colab_type": "text"
      },
      "source": [
        "<a href=\"https://colab.research.google.com/github/RUBAS-25/learn-modern-ai-python-P4-ASSIGNMENTS-/blob/main/01_EXPRESSIONS.ipynb\" target=\"_parent\"><img src=\"https://colab.research.google.com/assets/colab-badge.svg\" alt=\"Open In Colab\"/></a>"
      ]
    },
    {
      "cell_type": "markdown",
      "source": [
        "**PROJECT 04\n",
        "ASSIGNMENTS ( 00 TO 05 )**\n",
        "\n",
        "**01_EXPRESSIONS**\n"
      ],
      "metadata": {
        "id": "bKXM4Roa4FoC"
      }
    },
    {
      "cell_type": "markdown",
      "source": [
        "**01_dicesimulator**"
      ],
      "metadata": {
        "id": "CGK8AN0g4NRv"
      }
    },
    {
      "cell_type": "code",
      "source": [
        "# Import the random library which lets us simulate random things like dice!\n",
        "import random\n",
        "\n",
        "# Number of sides on each die to roll\n",
        "NUM_SIDES = 6\n",
        "\n",
        "def roll_dice():\n",
        "    \"\"\"\n",
        "    Simulates rolling two dice and prints their total\n",
        "    \"\"\"\n",
        "    die1 = random.randint(1, NUM_SIDES)\n",
        "    die2 = random.randint(1, NUM_SIDES)\n",
        "    total = die1 + die2\n",
        "    print(\"Total of two dice:\", total)\n",
        "\n",
        "def main():\n",
        "    die1 = 10  # Local variable in main\n",
        "    print(\"die1 in main() starts as: \" + str(die1))\n",
        "\n",
        "    # Call the function to roll dice three times\n",
        "    roll_dice()\n",
        "    roll_dice()\n",
        "    roll_dice()\n",
        "\n",
        "    # die1 in main() remains unchanged\n",
        "    print(\"die1 in main() is: \" + str(die1))\n",
        "\n",
        "# This provided line is required at the end of a Python file\n",
        "# to call the main() function.\n",
        "if __name__ == '__main__':\n",
        "    main()\n"
      ],
      "metadata": {
        "colab": {
          "base_uri": "https://localhost:8080/"
        },
        "id": "AeaO1ZQ94P_z",
        "outputId": "770bfcc0-bfab-40f7-e293-e0744f1999c6"
      },
      "execution_count": 1,
      "outputs": [
        {
          "output_type": "stream",
          "name": "stdout",
          "text": [
            "die1 in main() starts as: 10\n",
            "Total of two dice: 8\n",
            "Total of two dice: 2\n",
            "Total of two dice: 7\n",
            "die1 in main() is: 10\n"
          ]
        }
      ]
    },
    {
      "cell_type": "markdown",
      "source": [
        "**02_e=mc2**"
      ],
      "metadata": {
        "id": "o2vNFebQ49B6"
      }
    },
    {
      "cell_type": "code",
      "source": [
        "def main():\n",
        "    # Speed of light constant (in meters per second)\n",
        "    C = 299792458\n",
        "\n",
        "    # Ask the user for mass in kilograms\n",
        "    mass = float(input(\"Enter kilos of mass: \"))\n",
        "\n",
        "    # Calculate the energy using the formula E = m * c^2\n",
        "    energy = mass * C ** 2\n",
        "\n",
        "    # Print the result in the desired format\n",
        "    print(\"\\ne = m * C^2...\")\n",
        "    print(f\"m = {mass} kg\")\n",
        "    print(f\"C = {C} m/s\")\n",
        "    print(f\"{energy} joules of energy!\\n\")\n",
        "\n",
        "# This provided line is required at the end of\n",
        "# Python file to call the main() function.\n",
        "if __name__ == '__main__':\n",
        "    main()\n"
      ],
      "metadata": {
        "colab": {
          "base_uri": "https://localhost:8080/"
        },
        "id": "Gjg0JSUn4Eb4",
        "outputId": "a754aaf0-8b7c-4b60-bca9-32f3a34eb2bb"
      },
      "execution_count": 3,
      "outputs": [
        {
          "output_type": "stream",
          "name": "stdout",
          "text": [
            "Enter kilos of mass: 28\n",
            "\n",
            "e = m * C^2...\n",
            "m = 28.0 kg\n",
            "C = 299792458 m/s\n",
            "2.516514500463089e+18 joules of energy!\n",
            "\n"
          ]
        }
      ]
    },
    {
      "cell_type": "markdown",
      "source": [
        "**03_feet_to_inches**"
      ],
      "metadata": {
        "id": "eZJjZ-Q65nZl"
      }
    },
    {
      "cell_type": "code",
      "source": [
        "\"\"\"\n",
        "An example program with constants\n",
        "\"\"\"\n",
        "\n",
        "# Conversion factor. There are 12 inches for 1 foot.\n",
        "INCHES_IN_FOOT = 12\n",
        "\n",
        "def main():\n",
        "    # Get the number of feet from the user and convert it to float\n",
        "    feet = float(input(\"Enter number of feet: \"))\n",
        "\n",
        "    # Perform the conversion to inches\n",
        "    inches = feet * INCHES_IN_FOOT\n",
        "\n",
        "    # Print the result\n",
        "    print(\"That is\", inches, \"inches!\")\n",
        "\n",
        "# This provided line is required at the end of a Python file\n",
        "# to call the main() function.\n",
        "if __name__ == '__main__':\n",
        "    main()\n"
      ],
      "metadata": {
        "colab": {
          "base_uri": "https://localhost:8080/"
        },
        "id": "MSXFZ-AU5s2T",
        "outputId": "8ef216b5-b132-495b-d660-9e2cf8430a6d"
      },
      "execution_count": 4,
      "outputs": [
        {
          "output_type": "stream",
          "name": "stdout",
          "text": [
            "Enter number of feet: 5\n",
            "That is 60.0 inches!\n"
          ]
        }
      ]
    },
    {
      "cell_type": "markdown",
      "source": [
        "**04_pythagorean_theorem**"
      ],
      "metadata": {
        "id": "huhoCihA7Xq2"
      }
    },
    {
      "cell_type": "code",
      "source": [
        "import math  # Import the math library so we can use the sqrt function\n",
        "\n",
        "def main():\n",
        "    # Get the two side lengths from the user and cast them to be numbers\n",
        "    ab = float(input(\"Enter the length of AB: \"))\n",
        "    ac = float(input(\"Enter the length of AC: \"))\n",
        "\n",
        "    # Calculate the hypotenuse using the two sides and print it out\n",
        "    bc = math.sqrt(ab**2 + ac**2)\n",
        "    print(\"The length of BC (the hypotenuse) is: \" + str(bc))\n",
        "\n",
        "\n",
        "# This provided line is required at the end of the Python file to call the main() function.\n",
        "if __name__ == '__main__':\n",
        "    main()\n"
      ],
      "metadata": {
        "colab": {
          "base_uri": "https://localhost:8080/"
        },
        "id": "e6ZWfYZm7aay",
        "outputId": "6e7a4600-3e82-485b-f886-104eb1e8e909"
      },
      "execution_count": 1,
      "outputs": [
        {
          "output_type": "stream",
          "name": "stdout",
          "text": [
            "Enter the length of AB: 22\n",
            "Enter the length of AC: 28\n",
            "The length of BC (the hypotenuse) is: 35.608987629529715\n"
          ]
        }
      ]
    },
    {
      "cell_type": "markdown",
      "source": [
        "**05_remainder_division**"
      ],
      "metadata": {
        "id": "hsv0qzJ8xRLY"
      }
    },
    {
      "cell_type": "code",
      "source": [
        "def main():\n",
        "    # Get the numbers we want to divide\n",
        "    dividend = int(input(\"Please enter an integer to be divided: \"))\n",
        "    divisor = int(input(\"Please enter an integer to divide by: \"))\n",
        "\n",
        "    # Calculate the quotient and remainder\n",
        "    quotient = dividend // divisor  # Integer division (no decimals)\n",
        "    remainder = dividend % divisor  # Modulo operation (gives remainder)\n",
        "\n",
        "    # Print the result\n",
        "    print(\"The result of this division is \" + str(quotient) + \" with a remainder of \" + str(remainder))\n",
        "\n",
        "# This provided line is required at the end of the Python file to call the main() function.\n",
        "if __name__ == '__main__':\n",
        "    main()\n"
      ],
      "metadata": {
        "colab": {
          "base_uri": "https://localhost:8080/"
        },
        "id": "c92ALiu1xTzG",
        "outputId": "3f9f2631-1082-4940-fcf3-5bd8b9ad0591"
      },
      "execution_count": 2,
      "outputs": [
        {
          "output_type": "stream",
          "name": "stdout",
          "text": [
            "Please enter an integer to be divided: 25\n",
            "Please enter an integer to divide by: 5\n",
            "The result of this division is 5 with a remainder of 0\n"
          ]
        }
      ]
    },
    {
      "cell_type": "markdown",
      "source": [
        "**06_rolldice**"
      ],
      "metadata": {
        "id": "5DmCgEoXx6yy"
      }
    },
    {
      "cell_type": "code",
      "source": [
        "\"\"\"\n",
        "Simulate rolling two dice, and prints results of each\n",
        "roll as well as the total.\n",
        "\"\"\"\n",
        "\n",
        "# Import the random library which lets us simulate random things like dice!\n",
        "import random\n",
        "\n",
        "# Number of sides on each die to roll\n",
        "NUM_SIDES = 6\n",
        "\n",
        "def main():\n",
        "    # Setting a seed is useful for debugging (uncomment the line below if needed)\n",
        "    # random.seed(1)\n",
        "\n",
        "    # Roll both dice\n",
        "    die1 = random.randint(1, NUM_SIDES)\n",
        "    die2 = random.randint(1, NUM_SIDES)\n",
        "\n",
        "    # Calculate total\n",
        "    total = die1 + die2\n",
        "\n",
        "    # Print the results\n",
        "    print(\"Dice have\", NUM_SIDES, \"sides each.\")\n",
        "    print(\"First die:\", die1)\n",
        "    print(\"Second die:\", die2)\n",
        "    print(\"Total of two dice:\", total)\n",
        "\n",
        "# This provided line is required at the end of a Python file\n",
        "# to call the main() function.\n",
        "if __name__ == '__main__':\n",
        "    main()\n"
      ],
      "metadata": {
        "colab": {
          "base_uri": "https://localhost:8080/"
        },
        "id": "rzuBDBwjx-Tj",
        "outputId": "3565f176-204d-47e7-c274-13d2e37c1e25"
      },
      "execution_count": 3,
      "outputs": [
        {
          "output_type": "stream",
          "name": "stdout",
          "text": [
            "Dice have 6 sides each.\n",
            "First die: 4\n",
            "Second die: 3\n",
            "Total of two dice: 7\n"
          ]
        }
      ]
    },
    {
      "cell_type": "markdown",
      "source": [
        "**06_seconds_in_year**"
      ],
      "metadata": {
        "id": "1l7ofHHwyjx0"
      }
    },
    {
      "cell_type": "code",
      "source": [
        "# Useful constants to help make the math easier and cleaner!\n",
        "DAYS_PER_YEAR = 365\n",
        "HOURS_PER_DAY = 24\n",
        "MIN_PER_HOUR = 60\n",
        "SEC_PER_MIN = 60\n",
        "\n",
        "def main():\n",
        "    # Calculate the number of seconds in a year\n",
        "    seconds_in_year = DAYS_PER_YEAR * HOURS_PER_DAY * MIN_PER_HOUR * SEC_PER_MIN\n",
        "\n",
        "    # Print the result in a nice sentence\n",
        "    print(\"There are \" + str(seconds_in_year) + \" seconds in a year!\")\n",
        "\n",
        "# This provided line is required at the end of the Python file to call the main() function.\n",
        "if __name__ == '__main__':\n",
        "    main()\n"
      ],
      "metadata": {
        "colab": {
          "base_uri": "https://localhost:8080/"
        },
        "id": "Ne4DWsyVym46",
        "outputId": "02d502fa-d21e-4681-edf5-98f0031dcef6"
      },
      "execution_count": 1,
      "outputs": [
        {
          "output_type": "stream",
          "name": "stdout",
          "text": [
            "There are 31536000 seconds in a year!\n"
          ]
        }
      ]
    },
    {
      "cell_type": "markdown",
      "source": [
        "**07_tiny_mad_lib**"
      ],
      "metadata": {
        "id": "4XZLRsw2-oTb"
      }
    },
    {
      "cell_type": "code",
      "source": [
        "SENTENCE_START = \"The universe has been watching your efforts, and your time to shine is coming. \"  # adjective noun verb\n",
        "\n",
        "def main():\n",
        "    # Prompt the user for inputs\n",
        "    adjective = input(\"Please type an adjective and press enter. \")\n",
        "    noun = input(\"Please type a noun and press enter. \")\n",
        "    verb = input(\"Please type a verb and press enter. \")\n",
        "\n",
        "    # Construct and print the fun sentence\n",
        "    print(SENTENCE_START + adjective + \" \" + noun + \" \" + verb + \"!\")\n",
        "\n",
        "# This provided line is required at the end of the Python file to call the main() function.\n",
        "if __name__ == '__main__':\n",
        "    main()\n"
      ],
      "metadata": {
        "colab": {
          "base_uri": "https://localhost:8080/"
        },
        "id": "L7wVHbYs-qtv",
        "outputId": "55df45a9-d785-48a4-c5e6-4ac00cd3f2cf"
      },
      "execution_count": 3,
      "outputs": [
        {
          "output_type": "stream",
          "name": "stdout",
          "text": [
            "Please type an adjective and press enter. LOSER\n",
            "Please type a noun and press enter. INDIA\n",
            "Please type a verb and press enter. LOST\n",
            "The universe has been watching your efforts, and your time to shine is coming. LOSER INDIA LOST!\n"
          ]
        }
      ]
    }
  ]
}