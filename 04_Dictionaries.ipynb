{
  "nbformat": 4,
  "nbformat_minor": 0,
  "metadata": {
    "colab": {
      "provenance": [],
      "authorship_tag": "ABX9TyPRtZqa+fBxunuuIqofILsg",
      "include_colab_link": true
    },
    "kernelspec": {
      "name": "python3",
      "display_name": "Python 3"
    },
    "language_info": {
      "name": "python"
    }
  },
  "cells": [
    {
      "cell_type": "markdown",
      "metadata": {
        "id": "view-in-github",
        "colab_type": "text"
      },
      "source": [
        "<a href=\"https://colab.research.google.com/github/RUBAS-25/learn-modern-ai-python-P4-ASSIGNMENTS-/blob/main/04_Dictionaries.ipynb\" target=\"_parent\"><img src=\"https://colab.research.google.com/assets/colab-badge.svg\" alt=\"Open In Colab\"/></a>"
      ]
    },
    {
      "cell_type": "markdown",
      "source": [
        "**PROJECT 04\n",
        "ASSIGNMENTS ( 00 TO 05 )**\n",
        "\n",
        "**04_Dictionaries**"
      ],
      "metadata": {
        "id": "ksjrXlctk_PB"
      }
    },
    {
      "cell_type": "markdown",
      "source": [
        "**00_count_nums**"
      ],
      "metadata": {
        "id": "NXWJ3f_WlUr3"
      }
    },
    {
      "cell_type": "code",
      "source": [
        "def main():\n",
        "    counts = {}\n",
        "    while True:\n",
        "        num = input(\"Enter a number: \")\n",
        "        if num == \"\":\n",
        "            break\n",
        "        if num in counts:\n",
        "            counts[num] += 1\n",
        "        else:\n",
        "            counts[num] = 1\n",
        "\n",
        "    for num, count in counts.items():\n",
        "        print(f\"{num} appears {count} times.\")\n",
        "\n",
        "if __name__ == '__main__':\n",
        "    main()\n"
      ],
      "metadata": {
        "colab": {
          "base_uri": "https://localhost:8080/"
        },
        "id": "VjLaTISblWWs",
        "outputId": "42aec830-6533-4cb0-954a-28b959d05938"
      },
      "execution_count": 1,
      "outputs": [
        {
          "output_type": "stream",
          "name": "stdout",
          "text": [
            "Enter a number: 28\n",
            "Enter a number: 22\n",
            "Enter a number: 25\n",
            "Enter a number: 21\n",
            "Enter a number: 28\n",
            "Enter a number: 25\n",
            "Enter a number: 2\n",
            "Enter a number: \n",
            "28 appears 2 times.\n",
            "22 appears 1 times.\n",
            "25 appears 2 times.\n",
            "21 appears 1 times.\n",
            "2 appears 1 times.\n"
          ]
        }
      ]
    },
    {
      "cell_type": "markdown",
      "source": [
        "**01_phonebook**"
      ],
      "metadata": {
        "id": "BHTG_4UulVGu"
      }
    },
    {
      "cell_type": "code",
      "source": [
        "def main():\n",
        "    phonebook = {}\n",
        "\n",
        "    while True:\n",
        "        name = input(\"Enter a name (or press enter to stop): \")\n",
        "        if name == \"\":\n",
        "            break\n",
        "        number = input(f\"Enter the phone number for {name}: \")\n",
        "        phonebook[name] = number  # Add the name and number to the dictionary\n",
        "\n",
        "    print(\"\\nPhonebook entries:\")\n",
        "    for name, number in phonebook.items():\n",
        "        print(f\"{name}: {number}\")\n",
        "\n",
        "    # Optional: Look up a name\n",
        "    lookup_name = input(\"\\nEnter a name to look up: \")\n",
        "    if lookup_name in phonebook:\n",
        "        print(f\"{lookup_name}'s number is {phonebook[lookup_name]}\")\n",
        "    else:\n",
        "        print(\"Name not found in phonebook.\")\n",
        "\n",
        "if __name__ == '__main__':\n",
        "    main()\n"
      ],
      "metadata": {
        "colab": {
          "base_uri": "https://localhost:8080/"
        },
        "id": "ZxPm4kullW3t",
        "outputId": "05a97973-10f6-478d-8b8e-66a64203382b"
      },
      "execution_count": 2,
      "outputs": [
        {
          "output_type": "stream",
          "name": "stdout",
          "text": [
            "Enter a name (or press enter to stop): ZEV\n",
            "Enter the phone number for ZEV: 111244622\n",
            "Enter a name (or press enter to stop): M4\n",
            "Enter the phone number for M4: 226442111\n",
            "Enter a name (or press enter to stop): \n",
            "\n",
            "Phonebook entries:\n",
            "ZEV: 111244622\n",
            "M4: 226442111\n",
            "\n",
            "Enter a name to look up: ALE\n",
            "Name not found in phonebook.\n"
          ]
        }
      ]
    },
    {
      "cell_type": "markdown",
      "source": [
        "**02_pop_up_shop**"
      ],
      "metadata": {
        "id": "j-pWakphlVMJ"
      }
    },
    {
      "cell_type": "code",
      "source": [
        "def main():\n",
        "    fruit_prices = {\n",
        "        \"apple\": 5.0,\n",
        "        \"durian\": 15.0,\n",
        "        \"jackfruit\": 12.5,\n",
        "        \"kiwi\": 7.0,\n",
        "        \"rambutan\": 8.0,\n",
        "        \"mango\": 10.0\n",
        "    }\n",
        "\n",
        "    total = 0.0\n",
        "\n",
        "    for fruit, price in fruit_prices.items():\n",
        "        quantity = int(input(f\"How many ({fruit}) do you want?: \"))\n",
        "        total += quantity * price\n",
        "\n",
        "    print(f\"\\nYour total is ${total}\")\n",
        "\n",
        "if __name__ == '__main__':\n",
        "    main()\n"
      ],
      "metadata": {
        "colab": {
          "base_uri": "https://localhost:8080/"
        },
        "id": "JnICuOvelYCS",
        "outputId": "07f69f2c-899b-4e4d-bbf9-fe4db73ce3e5"
      },
      "execution_count": 3,
      "outputs": [
        {
          "output_type": "stream",
          "name": "stdout",
          "text": [
            "How many (apple) do you want?: 12\n",
            "How many (durian) do you want?: 6\n",
            "How many (jackfruit) do you want?: 1\n",
            "How many (kiwi) do you want?: 3\n",
            "How many (rambutan) do you want?: 3\n",
            "How many (mango) do you want?: 99\n",
            "\n",
            "Your total is $1197.5\n"
          ]
        }
      ]
    },
    {
      "cell_type": "markdown",
      "source": [
        "**03_powerful_passwords**"
      ],
      "metadata": {
        "id": "vM9RncLSlVSI"
      }
    },
    {
      "cell_type": "code",
      "source": [
        "import hashlib\n",
        "\n",
        "# Function to hash a password using SHA256\n",
        "def hash_password(password):\n",
        "    return hashlib.sha256(password.encode()).hexdigest()\n",
        "\n",
        "# Function to check if email and password match\n",
        "def login(email, password_to_check, stored_logins):\n",
        "    if email in stored_logins:\n",
        "        return stored_logins[email] == hash_password(password_to_check)\n",
        "    return False\n",
        "\n",
        "# Example usage\n",
        "stored_logins = {\n",
        "    \"ZEV@example.com\": hash_password(\"QWERTY123\"),\n",
        "    \"REV@example.com\": hash_password(\"123QWERTY\")\n",
        "}\n",
        "\n",
        "email = input(\"Enter your email: \")\n",
        "password = input(\"Enter your password: \")\n",
        "\n",
        "if login(email, password, stored_logins):\n",
        "    print(\"Login successful!\")\n",
        "else:\n",
        "    print(\"Login failed. Incorrect email or password.\")\n"
      ],
      "metadata": {
        "colab": {
          "base_uri": "https://localhost:8080/"
        },
        "id": "sSfr8RhElYiI",
        "outputId": "f1880ab1-127c-4554-9413-b9c17e19d114"
      },
      "execution_count": 4,
      "outputs": [
        {
          "output_type": "stream",
          "name": "stdout",
          "text": [
            "Enter your email: ZEV@example.com\n",
            "Enter your password: QWERTY123\n",
            "Login successful!\n"
          ]
        }
      ]
    }
  ]
}