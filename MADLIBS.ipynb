{
  "nbformat": 4,
  "nbformat_minor": 0,
  "metadata": {
    "colab": {
      "provenance": [],
      "authorship_tag": "ABX9TyOKuSyBA9IVzS0bBjMFEBlM",
      "include_colab_link": true
    },
    "kernelspec": {
      "name": "python3",
      "display_name": "Python 3"
    },
    "language_info": {
      "name": "python"
    }
  },
  "cells": [
    {
      "cell_type": "markdown",
      "metadata": {
        "id": "view-in-github",
        "colab_type": "text"
      },
      "source": [
        "<a href=\"https://colab.research.google.com/github/RUBAS-25/learn-modern-ai-python-P4-ASSIGNMENTS-/blob/main/MADLIBS.ipynb\" target=\"_parent\"><img src=\"https://colab.research.google.com/assets/colab-badge.svg\" alt=\"Open In Colab\"/></a>"
      ]
    },
    {
      "cell_type": "code",
      "execution_count": 2,
      "metadata": {
        "colab": {
          "base_uri": "https://localhost:8080/"
        },
        "id": "1HjC4EnOAFvX",
        "outputId": "093e428c-2e90-4399-f67c-bd335e0a17f6"
      },
      "outputs": [
        {
          "output_type": "stream",
          "name": "stdout",
          "text": [
            "\n",
            "\t\t✨ Welcome to the Magical Mad Libs Adventure! ✨\n",
            "\n",
            "\tLet's build a fun and silly story together!\n",
            "\n",
            "Give me an adjective: mysterious\n",
            "Give me a noun: wizard\n",
            "Enter a verb in past tense: danced\n",
            "Give me an adverb: secretly\n",
            "Another adjective, please: dizzy\n",
            "Another noun: umbrella\n",
            "And one more noun: monster\n",
            "One more adjective: grumpy\n",
            "Now a verb: crawl\n",
            "An adverb, again: extremely\n",
            "Another past tense verb: sang\n",
            "A final adjective: sleepy\n",
            "\n",
            "\t✅ Here's your personalized story:\n",
            "\n",
            "\n",
            "    Long ago in a mysterious kingdom, a wizard decided to danced secretly.\n",
            "    On the way, the wizard stumbled upon a dizzy umbrella, which seemed magical.\n",
            "    Eager to know more, the wizard took it to the wise monster.\n",
            "    But a grumpy creature blocked the path and tried to crawl extremely.\n",
            "    Fortunately, the brave wizard sang in time and escaped.\n",
            "    Feeling sleepy, the wizard returned home with a great story to tell.\n",
            "    \n",
            "Want to play again? (yes/no): no\n",
            "Thanks for playing! See you next time! 🌟\n"
          ]
        }
      ],
      "source": [
        "# Mad Libs Game for Google Colab\n",
        "\n",
        "def play_madlibs():\n",
        "    print(\"\\n\\t\\t✨ Welcome to the Magical Mad Libs Adventure! ✨\\n\")\n",
        "    print(\"\\tLet's build a fun and silly story together!\\n\")\n",
        "\n",
        "    # Collect user input\n",
        "    adj1 = input(\"Give me an adjective: \")\n",
        "    noun1 = input(\"Give me a noun: \")\n",
        "    past_verb1 = input(\"Enter a verb in past tense: \")\n",
        "    adv1 = input(\"Give me an adverb: \")\n",
        "    adj2 = input(\"Another adjective, please: \")\n",
        "    noun2 = input(\"Another noun: \")\n",
        "    noun3 = input(\"And one more noun: \")\n",
        "    adj3 = input(\"One more adjective: \")\n",
        "    verb1 = input(\"Now a verb: \")\n",
        "    adv2 = input(\"An adverb, again: \")\n",
        "    past_verb2 = input(\"Another past tense verb: \")\n",
        "    adj4 = input(\"A final adjective: \")\n",
        "\n",
        "    # Generate the story\n",
        "    story = f\"\"\"\n",
        "    Long ago in a {adj1} kingdom, a {noun1} decided to {past_verb1} {adv1}.\n",
        "    On the way, the {noun1} stumbled upon a {adj2} {noun2}, which seemed magical.\n",
        "    Eager to know more, the {noun1} took it to the wise {noun3}.\n",
        "    But a {adj3} creature blocked the path and tried to {verb1} {adv2}.\n",
        "    Fortunately, the brave {noun1} {past_verb2} in time and escaped.\n",
        "    Feeling {adj4}, the {noun1} returned home with a great story to tell.\n",
        "    \"\"\"\n",
        "\n",
        "    print(\"\\n\\t✅ Here's your personalized story:\\n\")\n",
        "    print(story)\n",
        "\n",
        "    # Ask user to play again\n",
        "    again = input(\"Want to play again? (yes/no): \")\n",
        "    if again.lower() == \"yes\":\n",
        "        play_madlibs()\n",
        "    else:\n",
        "        print(\"Thanks for playing! See you next time! 🌟\")\n",
        "\n",
        "# Run the game\n",
        "play_madlibs()\n"
      ]
    }
  ]
}