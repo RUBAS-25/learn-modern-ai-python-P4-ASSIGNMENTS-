{
  "nbformat": 4,
  "nbformat_minor": 0,
  "metadata": {
    "colab": {
      "provenance": [],
      "authorship_tag": "ABX9TyOuPhQbuFOD75+IevlCah/2",
      "include_colab_link": true
    },
    "kernelspec": {
      "name": "python3",
      "display_name": "Python 3"
    },
    "language_info": {
      "name": "python"
    }
  },
  "cells": [
    {
      "cell_type": "markdown",
      "metadata": {
        "id": "view-in-github",
        "colab_type": "text"
      },
      "source": [
        "<a href=\"https://colab.research.google.com/github/RUBAS-25/learn-modern-ai-python-P4-ASSIGNMENTS-/blob/main/02_LISTS.ipynb\" target=\"_parent\"><img src=\"https://colab.research.google.com/assets/colab-badge.svg\" alt=\"Open In Colab\"/></a>"
      ]
    },
    {
      "cell_type": "markdown",
      "source": [
        "**PROJECT 04\n",
        "ASSIGNMENTS ( 00 TO 05 )**\n",
        "\n",
        "**02_LISTS**"
      ],
      "metadata": {
        "id": "zBeI_BZVCbZy"
      }
    },
    {
      "cell_type": "markdown",
      "source": [
        "**01_add_many_number.**"
      ],
      "metadata": {
        "id": "sjW_qKQNHwxj"
      }
    },
    {
      "cell_type": "code",
      "source": [
        "def add_many_numbers(numbers) -> int:\n",
        "    \"\"\"\n",
        "    Takes in a list of numbers and returns the sum of those numbers.\n",
        "    \"\"\"\n",
        "    total_so_far: int = 0\n",
        "    for number in numbers:\n",
        "        total_so_far += number\n",
        "    return total_so_far\n",
        "\n",
        "def main():\n",
        "    numbers: list[int] = [1, 2, 3, 4, 5]  # Make a list of numbers\n",
        "    sum_of_numbers: int = add_many_numbers(numbers)  # Find the sum of the list\n",
        "    print(sum_of_numbers)  # Print out the sum\n",
        "\n",
        "# This provided line is required at the end of the Python file to call the main() function.\n",
        "if __name__ == '__main__':\n",
        "    main()\n"
      ],
      "metadata": {
        "colab": {
          "base_uri": "https://localhost:8080/"
        },
        "id": "SwKymZ37H0Jl",
        "outputId": "9b65f368-1ce1-4603-af00-575e2844320a"
      },
      "execution_count": null,
      "outputs": [
        {
          "output_type": "stream",
          "name": "stdout",
          "text": [
            "15\n"
          ]
        }
      ]
    },
    {
      "cell_type": "markdown",
      "source": [
        "**02_double_list**"
      ],
      "metadata": {
        "id": "lyF-zQ0uIMKw"
      }
    },
    {
      "cell_type": "code",
      "source": [
        "def main():\n",
        "    numbers: list[int] = [1, 2, 3, 4]  # Create a list of numbers\n",
        "\n",
        "    for i in range(len(numbers)):  # Loop through each index of the list\n",
        "        elem_at_index = numbers[i]  # Get the element at index i\n",
        "        numbers[i] = elem_at_index * 2  # Double the element and update it in the list\n",
        "\n",
        "    print(numbers)  # Print the updated list\n",
        "\n",
        "# This provided line is required at the end of the Python file to call the main() function.\n",
        "if __name__ == '__main__':\n",
        "    main()\n"
      ],
      "metadata": {
        "colab": {
          "base_uri": "https://localhost:8080/"
        },
        "id": "_G0B7yu5IN_n",
        "outputId": "55c0b437-3b98-4510-bddb-68a385d216ea"
      },
      "execution_count": null,
      "outputs": [
        {
          "output_type": "stream",
          "name": "stdout",
          "text": [
            "[2, 4, 6, 8]\n"
          ]
        }
      ]
    },
    {
      "cell_type": "markdown",
      "source": [
        "**03_erase_canvas**"
      ],
      "metadata": {
        "id": "3AGoF0YcIcag"
      }
    },
    {
      "cell_type": "code",
      "source": [
        "import matplotlib.pyplot as plt\n",
        "import numpy as np\n",
        "\n",
        "# Constants\n",
        "CANVAS_WIDTH = 400\n",
        "CANVAS_HEIGHT = 400\n",
        "CELL_SIZE = 40\n",
        "ERASER_SIZE = 20\n",
        "\n",
        "# Create a grid (matrix) representing the canvas\n",
        "rows = CANVAS_HEIGHT // CELL_SIZE\n",
        "cols = CANVAS_WIDTH // CELL_SIZE\n",
        "canvas = np.ones((rows, cols, 3))  # Start with all white\n",
        "\n",
        "# Color the grid blue initially\n",
        "canvas[:, :] = [0, 0, 1]  # RGB for blue\n",
        "\n",
        "def plot_canvas(eraser_position=None):\n",
        "    plt.imshow(canvas)\n",
        "    plt.axis('off')\n",
        "\n",
        "    if eraser_position:\n",
        "        ex, ey = eraser_position\n",
        "        plt.gca().add_patch(plt.Rectangle(\n",
        "            (ey, ex),\n",
        "            ERASER_SIZE / CELL_SIZE,\n",
        "            ERASER_SIZE / CELL_SIZE,\n",
        "            linewidth=1, edgecolor='pink', facecolor='none'\n",
        "        ))\n",
        "\n",
        "    plt.show()\n",
        "\n",
        "def erase(x, y):\n",
        "    # Translate pixel x,y to row,col in the grid\n",
        "    row = int((y / CANVAS_HEIGHT) * rows)\n",
        "    col = int((x / CANVAS_WIDTH) * cols)\n",
        "\n",
        "    # Erase nearby cells (simple radius)\n",
        "    for r in range(max(0, row-1), min(rows, row+2)):\n",
        "        for c in range(max(0, col-1), min(cols, col+2)):\n",
        "            canvas[r, c] = [1, 1, 1]  # Set to white\n",
        "\n",
        "def main():\n",
        "    # Initial plot\n",
        "    plot_canvas()\n",
        "\n",
        "    # Simulate a few eraser movements\n",
        "    eraser_moves = [\n",
        "        (50, 50),\n",
        "        (90, 90),\n",
        "        (130, 130),\n",
        "        (170, 170),\n",
        "    ]\n",
        "\n",
        "    for move in eraser_moves:\n",
        "        erase(*move)\n",
        "        plot_canvas(move)\n",
        "\n",
        "if __name__ == '__main__':\n",
        "    main()\n"
      ],
      "metadata": {
        "colab": {
          "base_uri": "https://localhost:8080/",
          "height": 1000
        },
        "id": "-nkdrh4zI-R3",
        "outputId": "f678a798-ce21-4cde-e640-a3b05e1eecc8"
      },
      "execution_count": null,
      "outputs": [
        {
          "output_type": "display_data",
          "data": {
            "text/plain": [
              "<Figure size 640x480 with 1 Axes>"
            ],
            "image/png": "[encoded data removed]"
          },
          "metadata": {}
        },
        {
          "output_type": "display_data",
          "data": {
            "text/plain": [
              "<Figure size 640x480 with 1 Axes>"
            ],
            "image/png": "[encoded data removed]"
          },
          "metadata": {}
        },
        {
          "output_type": "display_data",
          "data": {
            "text/plain": [
              "<Figure size 640x480 with 1 Axes>"
            ],
            "image/png": "[encoded data removed]"
          },
          "metadata": {}
        },
        {
          "output_type": "display_data",
          "data": {
            "text/plain": [
              "<Figure size 640x480 with 1 Axes>"
            ],
            "image/png": "[encoded data removed]"
          },
          "metadata": {}
        },
        {
          "output_type": "display_data",
          "data": {
            "text/plain": [
              "<Figure size 640x480 with 1 Axes>"
            ],
            "image/png": "[encoded data removed]"
          },
          "metadata": {}
        }
      ]
    },
    {
      "cell_type": "markdown",
      "source": [],
      "metadata": {
        "id": "7vaYAS-qJndZ"
      }
    },
    {
      "cell_type": "code",
      "source": [
        "!apt-get install -y xvfb && pip install pyvirtualdisplay && python -m pyvirtualdisplay --help"
      ],
      "metadata": {
        "colab": {
          "base_uri": "https://localhost:8080/"
        },
        "id": "0to7DXySJFMT",
        "outputId": "f5adc089-b2e9-40ba-8019-1f89ec0e82d7"
      },
      "execution_count": null,
      "outputs": [
        {
          "output_type": "stream",
          "name": "stdout",
          "text": [
            "Reading package lists... Done\n",
            "Building dependency tree... Done\n",
            "Reading state information... Done\n",
            "xvfb is already the newest version (2:21.1.4-2ubuntu1.7~22.04.14).\n",
            "0 upgraded, 0 newly installed, 0 to remove and 34 not upgraded.\n",
            "Collecting pyvirtualdisplay\n",
            "  Downloading PyVirtualDisplay-3.0-py3-none-any.whl.metadata (943 bytes)\n",
            "Downloading PyVirtualDisplay-3.0-py3-none-any.whl (15 kB)\n",
            "Installing collected packages: pyvirtualdisplay\n",
            "Successfully installed pyvirtualdisplay-3.0\n",
            "/usr/bin/python3: No module named pyvirtualdisplay.__main__; 'pyvirtualdisplay' is a package and cannot be directly executed\n"
          ]
        }
      ]
    },
    {
      "cell_type": "markdown",
      "source": [
        "**04_flowing_with_data_structures**"
      ],
      "metadata": {
        "id": "lQGxA99DJ3EW"
      }
    },
    {
      "cell_type": "code",
      "source": [
        "def add_three_copies(my_list, data):\n",
        "    for i in range(3):\n",
        "        my_list.append(data)\n",
        "\n",
        "########## No need to edit code past this point\n",
        "\n",
        "def main():\n",
        "    message = input(\"Enter a message to copy: \")\n",
        "    my_list = []\n",
        "    print(\"List before:\", my_list)\n",
        "    add_three_copies(my_list, message)\n",
        "    print(\"List after:\", my_list)\n",
        "\n",
        "if __name__ == '__main__':\n",
        "    main()\n"
      ],
      "metadata": {
        "colab": {
          "base_uri": "https://localhost:8080/"
        },
        "id": "z4Z4wouiJ6V5",
        "outputId": "424a990d-c056-4985-cedf-96514528e0b7"
      },
      "execution_count": 9,
      "outputs": [
        {
          "output_type": "stream",
          "name": "stdout",
          "text": [
            "Enter a message to copy: RUBAS REHMAN\n",
            "List before: []\n",
            "List after: ['RUBAS REHMAN', 'RUBAS REHMAN', 'RUBAS REHMAN']\n"
          ]
        }
      ]
    },
    {
      "cell_type": "markdown",
      "source": [
        "**05_get_first_element**"
      ],
      "metadata": {
        "id": "gIx29Q1XLqqC"
      }
    },
    {
      "cell_type": "code",
      "source": [
        "def get_first_element(lst):\n",
        "    \"\"\"\n",
        "    Prints the first element of a provided list.\n",
        "    \"\"\"\n",
        "    print(lst[0])\n",
        "\n",
        "\n",
        "\n",
        "def get_lst():\n",
        "    \"\"\"\n",
        "    Prompts the user to enter one element of the list at a time and returns the resulting list.\n",
        "    \"\"\"\n",
        "    lst = []\n",
        "    elem = input(\"Please enter an element of the list or press enter to stop: \")\n",
        "    while elem != \"\":\n",
        "        lst.append(elem)\n",
        "        elem = input(\"Please enter an element of the list or press enter to stop: \")\n",
        "    return lst\n",
        "\n",
        "def main():\n",
        "    lst = get_lst()\n",
        "    get_first_element(lst)\n",
        "\n",
        "if __name__ == '__main__':\n",
        "    main()\n"
      ],
      "metadata": {
        "colab": {
          "base_uri": "https://localhost:8080/"
        },
        "id": "oyy7UnxwLv-H",
        "outputId": "c16e2470-9a14-4671-a6bf-640f053a8f32"
      },
      "execution_count": 10,
      "outputs": [
        {
          "output_type": "stream",
          "name": "stdout",
          "text": [
            "Please enter an element of the list or press enter to stop: 1\n",
            "Please enter an element of the list or press enter to stop: \n",
            "1\n"
          ]
        }
      ]
    },
    {
      "cell_type": "markdown",
      "source": [
        "**06_get_last_element**"
      ],
      "metadata": {
        "id": "HPv7ar-XL_Bx"
      }
    },
    {
      "cell_type": "code",
      "source": [
        "def get_last_element(lst):\n",
        "\n",
        "    # Two ways to do it:\n",
        "    print(lst[len(lst) - 1])  # Using length minus 1\n",
        "    # or simply:\n",
        "    # print(lst[-1])\n",
        "\n",
        "def get_lst():\n",
        "    \"\"\"\n",
        "    Prompts the user to enter one element of the list at a time and returns the resulting list.\n",
        "    \"\"\"\n",
        "    lst = []\n",
        "    elem = input(\"Please enter an element of the list or press enter to stop: \")\n",
        "    while elem != \"\":\n",
        "        lst.append(elem)\n",
        "        elem = input(\"Please enter an element of the list or press enter to stop: \")\n",
        "    return lst\n",
        "\n",
        "def main():\n",
        "    lst = get_lst()\n",
        "    get_last_element(lst)\n",
        "\n",
        "# No need to edit this part\n",
        "if __name__ == '__main__':\n",
        "    main()\n"
      ],
      "metadata": {
        "colab": {
          "base_uri": "https://localhost:8080/"
        },
        "id": "D9YeenfwMDvb",
        "outputId": "72ce9504-5067-405e-8888-88fc9fb3bd91"
      },
      "execution_count": 11,
      "outputs": [
        {
          "output_type": "stream",
          "name": "stdout",
          "text": [
            "Please enter an element of the list or press enter to stop: 28\n",
            "Please enter an element of the list or press enter to stop: 22\n",
            "Please enter an element of the list or press enter to stop: 1\n",
            "Please enter an element of the list or press enter to stop: 1\n",
            "Please enter an element of the list or press enter to stop: 2\n",
            "Please enter an element of the list or press enter to stop: \n",
            "2\n"
          ]
        }
      ]
    },
    {
      "cell_type": "markdown",
      "source": [
        "**07_get_list**"
      ],
      "metadata": {
        "id": "4oC0w3nCNBag"
      }
    },
    {
      "cell_type": "code",
      "source": [
        "def main():\n",
        "    lst = []  # Make an empty list to store user inputs\n",
        "\n",
        "    val = input(\"Enter a value: \")  # Ask for the first input\n",
        "    while val:  # Keep asking until the user just presses Enter\n",
        "        lst.append(val)  # Add the value to the list\n",
        "        val = input(\"Enter a value: \")  # Ask for the next value\n",
        "\n",
        "    print(\"Here's the list:\", lst)  # Print the final list\n",
        "\n",
        "# This provided line is required at the end of the Python file\n",
        "if __name__ == '__main__':\n",
        "    main()"
      ],
      "metadata": {
        "colab": {
          "base_uri": "https://localhost:8080/"
        },
        "id": "GEih5J0WNDLb",
        "outputId": "ab6aa44d-4aa4-4742-c5fa-cc7431bbcb55"
      },
      "execution_count": 12,
      "outputs": [
        {
          "output_type": "stream",
          "name": "stdout",
          "text": [
            "Enter a value: 28\n",
            "Enter a value: 22\n",
            "Enter a value: 1\n",
            "Enter a value: 1\n",
            "Enter a value: 2\n",
            "Enter a value: \n",
            "Here's the list: ['28', '22', '1', '1', '2']\n"
          ]
        }
      ]
    },
    {
      "cell_type": "markdown",
      "source": [
        "**08_shorten**"
      ],
      "metadata": {
        "id": "R3OSWVsENNdw"
      }
    },
    {
      "cell_type": "code",
      "source": [
        "MAX_LENGTH: int = 3\n",
        "\n",
        "def shorten(lst):\n",
        "    \"\"\"\n",
        "    Removes elements from the end of lst and prints each item it removes\n",
        "    until lst is MAX_LENGTH items long.\n",
        "    \"\"\"\n",
        "    while len(lst) > MAX_LENGTH:\n",
        "        last_elem = lst.pop()  # Remove and get the last element\n",
        "        print(last_elem)       # Print the removed element\n",
        "\n",
        "# There is no need to edit code beyond this point\n",
        "\n",
        "def get_lst():\n",
        "    \"\"\"\n",
        "    Prompts the user to enter one element of the list at a time\n",
        "    and returns the resulting list.\n",
        "    \"\"\"\n",
        "    lst = []\n",
        "    elem = input(\"Please enter an element of the list or press enter to stop. \")\n",
        "    while elem != \"\":\n",
        "        lst.append(elem)\n",
        "        elem = input(\"Please enter an element of the list or press enter to stop. \")\n",
        "    return lst\n",
        "\n",
        "def main():\n",
        "    lst = get_lst()\n",
        "    shorten(lst)\n",
        "\n",
        "# This provided line is required at the end of the Python file\n",
        "if __name__ == '__main__':\n",
        "    main()\n"
      ],
      "metadata": {
        "colab": {
          "base_uri": "https://localhost:8080/"
        },
        "id": "w_9oU0WaNRV9",
        "outputId": "77b01f50-488f-4c16-c851-575df0735c6d"
      },
      "execution_count": 13,
      "outputs": [
        {
          "output_type": "stream",
          "name": "stdout",
          "text": [
            "Please enter an element of the list or press enter to stop. RUBAS\n",
            "Please enter an element of the list or press enter to stop. TATHEER\n",
            "Please enter an element of the list or press enter to stop. KEHKASHAN\n",
            "Please enter an element of the list or press enter to stop. MARYAM\n",
            "Please enter an element of the list or press enter to stop. \n",
            "MARYAM\n"
          ]
        }
      ]
    }
  ]
}