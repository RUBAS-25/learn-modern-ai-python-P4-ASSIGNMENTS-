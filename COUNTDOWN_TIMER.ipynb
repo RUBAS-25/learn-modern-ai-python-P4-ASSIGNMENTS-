{
  "nbformat": 4,
  "nbformat_minor": 0,
  "metadata": {
    "colab": {
      "provenance": [],
      "authorship_tag": "ABX9TyPDA0YRqfqcU1C3WsN+VGw7",
      "include_colab_link": true
    },
    "kernelspec": {
      "name": "python3",
      "display_name": "Python 3"
    },
    "language_info": {
      "name": "python"
    }
  },
  "cells": [
    {
      "cell_type": "markdown",
      "metadata": {
        "id": "view-in-github",
        "colab_type": "text"
      },
      "source": [
        "<a href=\"https://colab.research.google.com/github/RUBAS-25/learn-modern-ai-python-P4-ASSIGNMENTS-/blob/main/COUNTDOWN_TIMER.ipynb\" target=\"_parent\"><img src=\"https://colab.research.google.com/assets/colab-badge.svg\" alt=\"Open In Colab\"/></a>"
      ]
    },
    {
      "cell_type": "markdown",
      "source": [
        "# **COUNTDOWN TIMER**\n",
        " **🕒 Project Description:\n",
        "Countdown Timer is a simple Python project where the user enters a duration in seconds or minutes, and the program counts down to zero, updating every second.**"
      ],
      "metadata": {
        "id": "CgVB-m_2dee0"
      }
    },
    {
      "cell_type": "code",
      "execution_count": 2,
      "metadata": {
        "colab": {
          "base_uri": "https://localhost:8080/"
        },
        "id": "ChaC2T4ob1D4",
        "outputId": "b968fd65-1403-4168-c1ef-21d16f9171ad"
      },
      "outputs": [
        {
          "output_type": "stream",
          "name": "stdout",
          "text": [
            "Welcome to the Countdown Timer!\n",
            "Enter the countdown time in seconds: 120\n",
            "00:00\n",
            "Time's up!\n"
          ]
        }
      ],
      "source": [
        "import time\n",
        "\n",
        "def countdown_timer():\n",
        "    print(\"Welcome to the Countdown Timer!\")\n",
        "    try:\n",
        "        total_seconds = int(input(\"Enter the countdown time in seconds: \"))\n",
        "    except ValueError:\n",
        "        print(\"Please enter a valid number.\")\n",
        "        return\n",
        "\n",
        "    while total_seconds > 0:\n",
        "        mins, secs = divmod(total_seconds, 60)\n",
        "        timer = f\"{mins:02d}:{secs:02d}\"\n",
        "        print(timer, end=\"\\r\")\n",
        "        time.sleep(1)\n",
        "        total_seconds -= 1\n",
        "\n",
        "    print(\"00:00\")\n",
        "    print(\"Time's up!\")\n",
        "\n",
        "# Start the countdown\n",
        "countdown_timer()\n"
      ]
    }
  ]
}